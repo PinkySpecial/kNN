{
  "nbformat": 4,
  "nbformat_minor": 0,
  "metadata": {
    "colab": {
      "provenance": []
    },
    "kernelspec": {
      "name": "python3",
      "display_name": "Python 3"
    },
    "language_info": {
      "name": "python"
    }
  },
  "cells": [
    {
      "cell_type": "markdown",
      "source": [
        "# Новый раздел"
      ],
      "metadata": {
        "id": "TCqyycmJWzeY"
      }
    },
    {
      "cell_type": "code",
      "source": [
        "import pandas as pd\n",
        "import math\n",
        "\n",
        "# Шаг 1: Загрузка данных\n",
        "data = pd.read_excel('/content/GH.xlsx')\n",
        "\n",
        "# Шаг 2: Предобработка данных\n",
        "\n",
        "# Создание словарей для каждой категориальной переменной\n",
        "coffee_or_tea_values = {\"Чай\": 0, \"Кофе\": 1}\n",
        "gender_values = {\"М\": 0, \"Ж\": 1}\n",
        "sport_values = {\"Да\": 1, \"Нет\": 0}\n",
        "job_values = {\"Есть\": 1, \"Нет\": 0}\n",
        "heart_disease_values = {\"Есть\": 1, \"Нет\": 0}\n",
        "owl_or_lark_values = {\"Сова\": 0, \"Жаворонок\": 1}\n",
        "milk_in_fridge_values = {\"Есть\": 1, \"Нет\": 0}\n",
        "wake_up_time_values = {\"Позднее 8 утра\": 0, \"Раньше 8 утра\": 1}\n",
        "admin_district_values = {\"Восточный административный округ\": 0, \"Другой административный округ\": 1}\n",
        "sleep_time_values = {\"7-8 часов\": 0, \"Меньше 7 часов\": 1, \"Больше 8 часов\": 2}\n",
        "\n",
        "# Преобразование каждой категориальной переменной в числовое значение\n",
        "data[\"Кофе или чай?\"] = data[\"Кофе или чай?\"].map(coffee_or_tea_values)\n",
        "data[\"Пол\"] = data[\"Пол\"].map(gender_values)\n",
        "data[\"Занимаетесь спортом?\"] = data[\"Занимаетесь спортом?\"].map(sport_values)\n",
        "data[\"Есть ли работа?\"] = data[\"Есть ли работа?\"].map(job_values)\n",
        "data[\"Есть ли сердечные заболевания?\"] = data[\"Есть ли сердечные заболевания?\"].map(heart_disease_values)\n",
        "data[\"Сова или Жаворонок\"] = data[\"Сова или Жаворонок\"].map(owl_or_lark_values)\n",
        "data[\"Есть ли молоко в холодильнике?\"] = data[\"Есть ли молоко в холодильнике?\"].map(milk_in_fridge_values)\n",
        "data[\"Время подъема\"] = data[\"Время подъема\"].map(wake_up_time_values)\n",
        "data[\"Административный округ\"] = data[\"Административный округ\"].map(admin_district_values)\n",
        "data[\"Время сна\"] = data[\"Время сна\"].map(sleep_time_values)\n",
        "\n",
        "# Шаг 3: Разделение данных на обучающую и тестовую выборки\n",
        "train_data = data.iloc[:33]  # пример: первые 80% данных\n",
        "test_data = data.iloc[33:]   # пример: оставшиеся 20% данных\n",
        "\n",
        "# Шаг 4: Вычисление расстояния между объектами\n",
        "def euclidean_distance(point1, point2):\n",
        "    distance = 0\n",
        "    for i in range(len(point1)):\n",
        "        distance += pow((point1[i] - point2[i]), 2)\n",
        "    return math.sqrt(distance)\n",
        "\n",
        "# Шаг 5: Нахождение k ближайших соседей\n",
        "def get_nearest_neighbors(train_data, test_instance, k):\n",
        "    distances = []\n",
        "    for index, row in train_data.iterrows():\n",
        "        distance = euclidean_distance(row[:-1], test_instance[:-1])  # расстояние между объектами\n",
        "        distances.append((distance, row[-1]))  # сохраняем расстояние и метку класса\n",
        "    distances.sort(key=lambda x: x[0])  # сортируем по расстоянию\n",
        "    neighbors = distances[:k]  # выбираем k ближайших соседей\n",
        "    return neighbors\n",
        "\n",
        "# Шаг 6: Прогнозирование классов\n",
        "def predict_class(neighbors):\n",
        "    classes = {}\n",
        "    for neighbor in neighbors:\n",
        "        label = neighbor[1]\n",
        "        if label in classes:\n",
        "            classes[label] += 1\n",
        "        else:\n",
        "            classes[label] = 1\n",
        "    predicted_class = max(classes, key=classes.get)\n",
        "    return predicted_class\n",
        "\n",
        "# Шаг 7: Оценка точности модели\n",
        "def accuracy(test_data, predictions):\n",
        "    if len(test_data) > 0:\n",
        "        correct = 0\n",
        "        for i in range(len(test_data)):\n",
        "            if test_data.iloc[i][-1] == predictions[i]:\n",
        "                correct += 1\n",
        "        return (correct / float(len(test_data))) * 100.0\n",
        "    else:\n",
        "        return 0\n",
        "# Пример использования:\n",
        "k = 3  # количество ближайших соседей\n",
        "\n",
        "predictions = []\n",
        "for index, row in test_data.iterrows():\n",
        "    neighbors = get_nearest_neighbors(train_data, row, k)\n",
        "    predicted_class = predict_class(neighbors)\n",
        "    predictions.append(predicted_class)\n",
        "\n",
        "acc = accuracy(test_data, predictions)\n",
        "print(\"Точность модели:\", acc)"
      ],
      "metadata": {
        "colab": {
          "base_uri": "https://localhost:8080/"
        },
        "id": "rmxt27ncb5A5",
        "outputId": "f3d2ba3f-1ced-4b9a-b5bd-c096293f0614"
      },
      "execution_count": 24,
      "outputs": [
        {
          "output_type": "stream",
          "name": "stdout",
          "text": [
            "Точность модели: 50.0\n"
          ]
        }
      ]
    }
  ]
}